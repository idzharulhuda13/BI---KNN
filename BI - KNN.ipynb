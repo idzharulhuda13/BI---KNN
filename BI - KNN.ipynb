{
 "cells": [
  {
   "cell_type": "code",
   "execution_count": 23,
   "metadata": {},
   "outputs": [],
   "source": [
    "import numpy as np\r\n",
    "import matplotlib.pyplot as plt\r\n",
    "import pandas as pd"
   ]
  },
  {
   "cell_type": "code",
   "execution_count": 24,
   "metadata": {},
   "outputs": [],
   "source": [
    "names = ['Age', 'Gender', 'Job', 'Market']\r\n",
    "\r\n",
    "dataset = pd.read_csv('data/WKW_marketingcampaign_event1.csv', names=names)"
   ]
  },
  {
   "cell_type": "code",
   "execution_count": 25,
   "metadata": {},
   "outputs": [],
   "source": [
    "X = dataset.iloc[:, :-1].values\r\n",
    "y = dataset.iloc[:, -1].values\r\n"
   ]
  },
  {
   "cell_type": "code",
   "execution_count": 26,
   "metadata": {},
   "outputs": [],
   "source": [
    "from sklearn.preprocessing import LabelEncoder\r\n",
    "le = LabelEncoder()\r\n",
    "X[:, 1] = le.fit_transform(X[:, 1])\r\n"
   ]
  },
  {
   "cell_type": "markdown",
   "metadata": {},
   "source": [
    "# Data"
   ]
  },
  {
   "cell_type": "code",
   "execution_count": 27,
   "metadata": {},
   "outputs": [],
   "source": [
    "from sklearn.compose import ColumnTransformer\r\n",
    "from sklearn.preprocessing import OneHotEncoder\r\n",
    "ct = ColumnTransformer(\r\n",
    "    transformers=[('encoder', OneHotEncoder(), [2])], remainder='passthrough')\r\n",
    "X = np.array(ct.fit_transform(X))"
   ]
  },
  {
   "cell_type": "code",
   "execution_count": 28,
   "metadata": {},
   "outputs": [
    {
     "data": {
      "text/plain": [
       "array([[1.0, 0.0, 0.0, 24, 0],\n",
       "       [1.0, 0.0, 0.0, 24, 0],\n",
       "       [1.0, 0.0, 0.0, 22, 1],\n",
       "       [1.0, 0.0, 0.0, 22, 1],\n",
       "       [1.0, 0.0, 0.0, 22, 0],\n",
       "       [1.0, 0.0, 0.0, 25, 1],\n",
       "       [1.0, 0.0, 0.0, 23, 1],\n",
       "       [1.0, 0.0, 0.0, 27, 1],\n",
       "       [1.0, 0.0, 0.0, 19, 1],\n",
       "       [1.0, 0.0, 0.0, 33, 0],\n",
       "       [0.0, 1.0, 0.0, 22, 0],\n",
       "       [0.0, 1.0, 0.0, 22, 1],\n",
       "       [0.0, 1.0, 0.0, 22, 0],\n",
       "       [0.0, 1.0, 0.0, 23, 0],\n",
       "       [0.0, 1.0, 0.0, 26, 1],\n",
       "       [0.0, 1.0, 0.0, 23, 0],\n",
       "       [0.0, 0.0, 1.0, 21, 0],\n",
       "       [0.0, 0.0, 1.0, 22, 0],\n",
       "       [0.0, 0.0, 1.0, 23, 1],\n",
       "       [0.0, 0.0, 1.0, 20, 1],\n",
       "       [0.0, 0.0, 1.0, 22, 0],\n",
       "       [0.0, 0.0, 1.0, 22, 0],\n",
       "       [0.0, 0.0, 1.0, 21, 1],\n",
       "       [0.0, 0.0, 1.0, 21, 1],\n",
       "       [0.0, 0.0, 1.0, 19, 0],\n",
       "       [0.0, 0.0, 1.0, 21, 1],\n",
       "       [0.0, 0.0, 1.0, 20, 1],\n",
       "       [0.0, 0.0, 1.0, 22, 1],\n",
       "       [0.0, 0.0, 1.0, 20, 1],\n",
       "       [0.0, 0.0, 1.0, 20, 0],\n",
       "       [0.0, 0.0, 1.0, 20, 0],\n",
       "       [0.0, 0.0, 1.0, 19, 0],\n",
       "       [0.0, 0.0, 1.0, 21, 1],\n",
       "       [0.0, 0.0, 1.0, 18, 1],\n",
       "       [0.0, 0.0, 1.0, 20, 1],\n",
       "       [0.0, 0.0, 1.0, 20, 1],\n",
       "       [0.0, 0.0, 1.0, 19, 1],\n",
       "       [0.0, 0.0, 1.0, 19, 1],\n",
       "       [0.0, 0.0, 1.0, 20, 1],\n",
       "       [0.0, 0.0, 1.0, 21, 1],\n",
       "       [0.0, 0.0, 1.0, 20, 0],\n",
       "       [0.0, 0.0, 1.0, 18, 1],\n",
       "       [0.0, 0.0, 1.0, 19, 1],\n",
       "       [0.0, 0.0, 1.0, 19, 0],\n",
       "       [0.0, 0.0, 1.0, 24, 0],\n",
       "       [0.0, 0.0, 1.0, 20, 0],\n",
       "       [0.0, 0.0, 1.0, 19, 1],\n",
       "       [0.0, 0.0, 1.0, 20, 0],\n",
       "       [0.0, 0.0, 1.0, 20, 0],\n",
       "       [0.0, 0.0, 1.0, 22, 0],\n",
       "       [0.0, 0.0, 1.0, 21, 1],\n",
       "       [0.0, 0.0, 1.0, 21, 1],\n",
       "       [0.0, 0.0, 1.0, 20, 0],\n",
       "       [0.0, 0.0, 1.0, 19, 0],\n",
       "       [0.0, 0.0, 1.0, 20, 1],\n",
       "       [0.0, 0.0, 1.0, 20, 1]], dtype=object)"
      ]
     },
     "execution_count": 28,
     "metadata": {},
     "output_type": "execute_result"
    }
   ],
   "source": [
    "X"
   ]
  },
  {
   "cell_type": "code",
   "execution_count": 29,
   "metadata": {},
   "outputs": [],
   "source": [
    "from sklearn.model_selection import train_test_split\r\n",
    "X_train, X_test, y_train, y_test = train_test_split(X, y, test_size=0.20)"
   ]
  },
  {
   "cell_type": "code",
   "execution_count": 30,
   "metadata": {},
   "outputs": [],
   "source": [
    "from sklearn.preprocessing import StandardScaler\r\n",
    "scaler = StandardScaler()\r\n",
    "scaler.fit(X_train)\r\n",
    "\r\n",
    "X_train = scaler.transform(X_train)\r\n",
    "X_test = scaler.transform(X_test)"
   ]
  },
  {
   "cell_type": "markdown",
   "metadata": {},
   "source": [
    "# TRAINING"
   ]
  },
  {
   "cell_type": "code",
   "execution_count": 31,
   "metadata": {},
   "outputs": [
    {
     "data": {
      "text/plain": [
       "KNeighborsClassifier(n_neighbors=3)"
      ]
     },
     "execution_count": 31,
     "metadata": {},
     "output_type": "execute_result"
    }
   ],
   "source": [
    "from sklearn.neighbors import KNeighborsClassifier\r\n",
    "classifier = KNeighborsClassifier(n_neighbors=3)\r\n",
    "classifier.fit(X_train, y_train)"
   ]
  },
  {
   "cell_type": "markdown",
   "metadata": {},
   "source": [
    "TESTING"
   ]
  },
  {
   "cell_type": "code",
   "execution_count": 32,
   "metadata": {},
   "outputs": [],
   "source": [
    "y_pred = classifier.predict(X_test)"
   ]
  },
  {
   "cell_type": "markdown",
   "metadata": {},
   "source": [
    "# EVALUATING"
   ]
  },
  {
   "cell_type": "code",
   "execution_count": 33,
   "metadata": {},
   "outputs": [
    {
     "name": "stdout",
     "output_type": "stream",
     "text": [
      "[[2 1 0 3]\n",
      " [0 0 0 0]\n",
      " [0 0 0 2]\n",
      " [1 0 0 3]]\n",
      "                   precision    recall  f1-score   support\n",
      "\n",
      "Community Partner       0.67      0.33      0.44         6\n",
      " INVITED DELEGATE       0.00      0.00      0.00         0\n",
      "       Influencer       0.00      0.00      0.00         2\n",
      " Social Media Ads       0.38      0.75      0.50         4\n",
      "\n",
      "         accuracy                           0.42        12\n",
      "        macro avg       0.26      0.27      0.24        12\n",
      "     weighted avg       0.46      0.42      0.39        12\n",
      "\n"
     ]
    },
    {
     "name": "stderr",
     "output_type": "stream",
     "text": [
      "C:\\Users\\ihuda\\AppData\\Local\\Programs\\Python\\Python39\\lib\\site-packages\\sklearn\\metrics\\_classification.py:1248: UndefinedMetricWarning: Precision and F-score are ill-defined and being set to 0.0 in labels with no predicted samples. Use `zero_division` parameter to control this behavior.\n",
      "  _warn_prf(average, modifier, msg_start, len(result))\n",
      "C:\\Users\\ihuda\\AppData\\Local\\Programs\\Python\\Python39\\lib\\site-packages\\sklearn\\metrics\\_classification.py:1248: UndefinedMetricWarning: Recall and F-score are ill-defined and being set to 0.0 in labels with no true samples. Use `zero_division` parameter to control this behavior.\n",
      "  _warn_prf(average, modifier, msg_start, len(result))\n",
      "C:\\Users\\ihuda\\AppData\\Local\\Programs\\Python\\Python39\\lib\\site-packages\\sklearn\\metrics\\_classification.py:1248: UndefinedMetricWarning: Precision and F-score are ill-defined and being set to 0.0 in labels with no predicted samples. Use `zero_division` parameter to control this behavior.\n",
      "  _warn_prf(average, modifier, msg_start, len(result))\n",
      "C:\\Users\\ihuda\\AppData\\Local\\Programs\\Python\\Python39\\lib\\site-packages\\sklearn\\metrics\\_classification.py:1248: UndefinedMetricWarning: Recall and F-score are ill-defined and being set to 0.0 in labels with no true samples. Use `zero_division` parameter to control this behavior.\n",
      "  _warn_prf(average, modifier, msg_start, len(result))\n",
      "C:\\Users\\ihuda\\AppData\\Local\\Programs\\Python\\Python39\\lib\\site-packages\\sklearn\\metrics\\_classification.py:1248: UndefinedMetricWarning: Precision and F-score are ill-defined and being set to 0.0 in labels with no predicted samples. Use `zero_division` parameter to control this behavior.\n",
      "  _warn_prf(average, modifier, msg_start, len(result))\n",
      "C:\\Users\\ihuda\\AppData\\Local\\Programs\\Python\\Python39\\lib\\site-packages\\sklearn\\metrics\\_classification.py:1248: UndefinedMetricWarning: Recall and F-score are ill-defined and being set to 0.0 in labels with no true samples. Use `zero_division` parameter to control this behavior.\n",
      "  _warn_prf(average, modifier, msg_start, len(result))\n"
     ]
    }
   ],
   "source": [
    "from sklearn.metrics import classification_report, confusion_matrix\r\n",
    "print(confusion_matrix(y_test, y_pred))\r\n",
    "print(classification_report(y_test, y_pred))"
   ]
  },
  {
   "cell_type": "markdown",
   "metadata": {},
   "source": [
    "# Error Rate"
   ]
  },
  {
   "cell_type": "code",
   "execution_count": 34,
   "metadata": {},
   "outputs": [
    {
     "data": {
      "text/plain": [
       "Text(0, 0.5, 'Error rata-rata')"
      ]
     },
     "execution_count": 34,
     "metadata": {},
     "output_type": "execute_result"
    },
    {
     "data": {
      "image/png": "[encoded data removed]",
      "text/plain": [
       "<Figure size 864x432 with 1 Axes>"
      ]
     },
     "metadata": {
      "needs_background": "light"
     },
     "output_type": "display_data"
    }
   ],
   "source": [
    "error = []\r\n",
    "\r\n",
    "# Calculating error for K values between 1 and 40\r\n",
    "for i in range(1, 40):\r\n",
    "    knn = KNeighborsClassifier(n_neighbors=i)\r\n",
    "    knn.fit(X_train, y_train)\r\n",
    "    pred_i = knn.predict(X_test)\r\n",
    "    error.append(np.mean(pred_i != y_test))\r\n",
    "\r\n",
    "plt.figure(figsize=(12, 6))\r\n",
    "plt.plot(range(1, 40), error, color='red', linestyle='dashed', marker='o',\r\n",
    "         markerfacecolor='blue', markersize=10)\r\n",
    "plt.title('Error Rate Nilai K')\r\n",
    "plt.xlabel('Nilai K')\r\n",
    "plt.ylabel('Error rata-rata')"
   ]
  },
  {
   "cell_type": "markdown",
   "metadata": {},
   "source": [
    "# PREDICT"
   ]
  },
  {
   "cell_type": "code",
   "execution_count": 35,
   "metadata": {},
   "outputs": [],
   "source": [
    "\"\"\"\r\n",
    "predict(Employee,Freelance,Student,Age,Gender)\r\n",
    "Employee 0/1\r\n",
    "Freelance 0/1\r\n",
    "Student 0/1\r\n",
    "Age int\r\n",
    "Gender 0 = Female / 1 = Male\r\n",
    "\"\"\"\r\n",
    "input = [[1,0,0,19,1]]\r\n",
    "input = scaler.transform(input)"
   ]
  },
  {
   "cell_type": "code",
   "execution_count": 36,
   "metadata": {},
   "outputs": [
    {
     "name": "stdout",
     "output_type": "stream",
     "text": [
      "['Market : PP']\n"
     ]
    }
   ],
   "source": [
    "result = classifier.predict(input)\r\n",
    "print(\"Market : \" + result)"
   ]
  }
 ],
 "metadata": {
  "interpreter": {
   "hash": "2dc46d7789bb4a3e007db80caff5721ebfef7b93e1cd05adbfd280de85b2e759"
  },
  "kernelspec": {
   "display_name": "Python 3.9.1 64-bit",
   "name": "python3"
  },
  "language_info": {
   "name": "python",
   "version": ""
  },
  "metadata": {
   "interpreter": {
    "hash": "2dc46d7789bb4a3e007db80caff5721ebfef7b93e1cd05adbfd280de85b2e759"
   }
  },
  "orig_nbformat": 2
 },
 "nbformat": 4,
 "nbformat_minor": 2
}